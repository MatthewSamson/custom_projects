{
 "cells": [
  {
   "cell_type": "code",
   "execution_count": 1,
   "metadata": {},
   "outputs": [],
   "source": [
    "import pandas as pd\n",
    "import numpy as np\n",
    "import sklearn\n",
    "import scipy\n",
    "import torch"
   ]
  },
  {
   "cell_type": "markdown",
   "metadata": {},
   "source": [
    "## 1. Pre-processing"
   ]
  },
  {
   "cell_type": "code",
   "execution_count": 2,
   "metadata": {},
   "outputs": [
    {
     "data": {
      "text/plain": [
       "(23028, 10)"
      ]
     },
     "execution_count": 2,
     "metadata": {},
     "output_type": "execute_result"
    }
   ],
   "source": [
    "# loading up the data\n",
    "data = pd.read_csv('data.csv')\n",
    "# shape of the data\n",
    "data.shape"
   ]
  },
  {
   "cell_type": "code",
   "execution_count": 3,
   "metadata": {},
   "outputs": [
    {
     "data": {
      "text/plain": [
       "array(['location_name', 'count', 'max temp', 'mean temp', 'min temp',\n",
       "       'snow on grnd (cm)', 'total precip (mm)', 'total rain (mm)',\n",
       "       'total snow (cm)', 'date'], dtype=object)"
      ]
     },
     "execution_count": 3,
     "metadata": {},
     "output_type": "execute_result"
    }
   ],
   "source": [
    "# features in the data\n",
    "data.columns.values"
   ]
  },
  {
   "cell_type": "code",
   "execution_count": null,
   "metadata": {},
   "outputs": [],
   "source": []
  },
  {
   "cell_type": "code",
   "execution_count": 4,
   "metadata": {},
   "outputs": [],
   "source": [
    "def preprocessing(df: pd.DataFrame) -> pd.DataFrame:\n",
    "    '''\n",
    "    Pre-process a dataframe\n",
    "    \n",
    "    :param pd.DataFrame df: raw dataframe from data.csv\n",
    "    \n",
    "    :returns pd.DataFrame processed_df: processed dataframe\n",
    "    ''' \n",
    "    group_date_location = df.groupby(['date', 'location_name']).sum()\n",
    "    group_date = group_date_location.groupby(['date']).sum()\n",
    "    print(\"Shape after group by and summation: \", group_date.shape)\n",
    "    \n",
    "    group_date['total count'] = \"\"\n",
    "    \n",
    "    for i, ct in enumerate(group_date['count']):\n",
    "        if ct < 2000:\n",
    "            group_date['total count'][i] = \"less than 2000\"\n",
    "        if ct > 2000 and ct < 10000:\n",
    "            group_date['total count'][i] = \"2000 to 10000\"\n",
    "        if ct > 10000:\n",
    "            group_date['total count'][i] = \"over 10000\"\n",
    "    \n",
    "    print(\"New features of total count set!\")\n",
    "    print(\"Saving file as processed_data.csv...\")\n",
    "    group_date.to_csv('processed_data.csv')\n",
    "    \n",
    "    return group_date"
   ]
  },
  {
   "cell_type": "code",
   "execution_count": 5,
   "metadata": {},
   "outputs": [
    {
     "name": "stdout",
     "output_type": "stream",
     "text": [
      "Shape after group by and summation:  (3282, 8)\n"
     ]
    },
    {
     "name": "stderr",
     "output_type": "stream",
     "text": [
      "C:\\Users\\sunny\\Anaconda3\\lib\\site-packages\\ipykernel_launcher.py:17: SettingWithCopyWarning: \n",
      "A value is trying to be set on a copy of a slice from a DataFrame\n",
      "\n",
      "See the caveats in the documentation: http://pandas.pydata.org/pandas-docs/stable/indexing.html#indexing-view-versus-copy\n",
      "C:\\Users\\sunny\\Anaconda3\\lib\\site-packages\\ipykernel_launcher.py:19: SettingWithCopyWarning: \n",
      "A value is trying to be set on a copy of a slice from a DataFrame\n",
      "\n",
      "See the caveats in the documentation: http://pandas.pydata.org/pandas-docs/stable/indexing.html#indexing-view-versus-copy\n",
      "C:\\Users\\sunny\\Anaconda3\\lib\\site-packages\\ipykernel_launcher.py:21: SettingWithCopyWarning: \n",
      "A value is trying to be set on a copy of a slice from a DataFrame\n",
      "\n",
      "See the caveats in the documentation: http://pandas.pydata.org/pandas-docs/stable/indexing.html#indexing-view-versus-copy\n"
     ]
    },
    {
     "name": "stdout",
     "output_type": "stream",
     "text": [
      "New features of total count set!\n",
      "Saving file as processed_data.csv...\n"
     ]
    },
    {
     "data": {
      "text/html": [
       "<div>\n",
       "<style scoped>\n",
       "    .dataframe tbody tr th:only-of-type {\n",
       "        vertical-align: middle;\n",
       "    }\n",
       "\n",
       "    .dataframe tbody tr th {\n",
       "        vertical-align: top;\n",
       "    }\n",
       "\n",
       "    .dataframe thead th {\n",
       "        text-align: right;\n",
       "    }\n",
       "</style>\n",
       "<table border=\"1\" class=\"dataframe\">\n",
       "  <thead>\n",
       "    <tr style=\"text-align: right;\">\n",
       "      <th></th>\n",
       "      <th>count</th>\n",
       "      <th>max temp</th>\n",
       "      <th>mean temp</th>\n",
       "      <th>min temp</th>\n",
       "      <th>snow on grnd (cm)</th>\n",
       "      <th>total precip (mm)</th>\n",
       "      <th>total rain (mm)</th>\n",
       "      <th>total snow (cm)</th>\n",
       "      <th>total count</th>\n",
       "    </tr>\n",
       "    <tr>\n",
       "      <th>date</th>\n",
       "      <th></th>\n",
       "      <th></th>\n",
       "      <th></th>\n",
       "      <th></th>\n",
       "      <th></th>\n",
       "      <th></th>\n",
       "      <th></th>\n",
       "      <th></th>\n",
       "      <th></th>\n",
       "    </tr>\n",
       "  </thead>\n",
       "  <tbody>\n",
       "    <tr>\n",
       "      <th>2010-01-01</th>\n",
       "      <td>0</td>\n",
       "      <td>-7.5</td>\n",
       "      <td>-12.3</td>\n",
       "      <td>-17.1</td>\n",
       "      <td>54.0</td>\n",
       "      <td>15.0</td>\n",
       "      <td>0.0</td>\n",
       "      <td>22.8</td>\n",
       "      <td>less than 2000</td>\n",
       "    </tr>\n",
       "    <tr>\n",
       "      <th>2010-01-02</th>\n",
       "      <td>0</td>\n",
       "      <td>-23.8</td>\n",
       "      <td>-26.6</td>\n",
       "      <td>-29.2</td>\n",
       "      <td>42.0</td>\n",
       "      <td>3.8</td>\n",
       "      <td>0.0</td>\n",
       "      <td>5.2</td>\n",
       "      <td>less than 2000</td>\n",
       "    </tr>\n",
       "    <tr>\n",
       "      <th>2010-01-03</th>\n",
       "      <td>0</td>\n",
       "      <td>-23.4</td>\n",
       "      <td>-34.2</td>\n",
       "      <td>-45.0</td>\n",
       "      <td>63.0</td>\n",
       "      <td>6.0</td>\n",
       "      <td>0.0</td>\n",
       "      <td>9.0</td>\n",
       "      <td>less than 2000</td>\n",
       "    </tr>\n",
       "    <tr>\n",
       "      <th>2010-01-04</th>\n",
       "      <td>0</td>\n",
       "      <td>-22.5</td>\n",
       "      <td>-27.0</td>\n",
       "      <td>-31.5</td>\n",
       "      <td>63.0</td>\n",
       "      <td>3.0</td>\n",
       "      <td>0.0</td>\n",
       "      <td>6.0</td>\n",
       "      <td>less than 2000</td>\n",
       "    </tr>\n",
       "    <tr>\n",
       "      <th>2010-01-05</th>\n",
       "      <td>0</td>\n",
       "      <td>-10.0</td>\n",
       "      <td>-15.6</td>\n",
       "      <td>-21.2</td>\n",
       "      <td>42.0</td>\n",
       "      <td>2.0</td>\n",
       "      <td>0.0</td>\n",
       "      <td>3.0</td>\n",
       "      <td>less than 2000</td>\n",
       "    </tr>\n",
       "  </tbody>\n",
       "</table>\n",
       "</div>"
      ],
      "text/plain": [
       "            count  max temp  mean temp  min temp  snow on grnd (cm)  \\\n",
       "date                                                                  \n",
       "2010-01-01      0      -7.5      -12.3     -17.1               54.0   \n",
       "2010-01-02      0     -23.8      -26.6     -29.2               42.0   \n",
       "2010-01-03      0     -23.4      -34.2     -45.0               63.0   \n",
       "2010-01-04      0     -22.5      -27.0     -31.5               63.0   \n",
       "2010-01-05      0     -10.0      -15.6     -21.2               42.0   \n",
       "\n",
       "            total precip (mm)  total rain (mm)  total snow (cm)  \\\n",
       "date                                                              \n",
       "2010-01-01               15.0              0.0             22.8   \n",
       "2010-01-02                3.8              0.0              5.2   \n",
       "2010-01-03                6.0              0.0              9.0   \n",
       "2010-01-04                3.0              0.0              6.0   \n",
       "2010-01-05                2.0              0.0              3.0   \n",
       "\n",
       "               total count  \n",
       "date                        \n",
       "2010-01-01  less than 2000  \n",
       "2010-01-02  less than 2000  \n",
       "2010-01-03  less than 2000  \n",
       "2010-01-04  less than 2000  \n",
       "2010-01-05  less than 2000  "
      ]
     },
     "execution_count": 5,
     "metadata": {},
     "output_type": "execute_result"
    }
   ],
   "source": [
    "processed_df = preprocessing(data)\n",
    "processed_df.head()"
   ]
  },
  {
   "cell_type": "markdown",
   "metadata": {},
   "source": [
    "## 2. Data engineering"
   ]
  },
  {
   "cell_type": "code",
   "execution_count": 6,
   "metadata": {},
   "outputs": [],
   "source": [
    "from sklearn.model_selection import train_test_split\n",
    "from sklearn.preprocessing import MinMaxScaler"
   ]
  },
  {
   "cell_type": "code",
   "execution_count": 7,
   "metadata": {},
   "outputs": [],
   "source": [
    "def convert_class(df):\n",
    "    dframe = df.copy()\n",
    "    \n",
    "    dframe['class'] = None\n",
    "                \n",
    "    for i, cla in enumerate(dframe['total count']):\n",
    "        if cla == \"less than 2000\":\n",
    "            dframe['class'][i] = 0\n",
    "            \n",
    "        if cla == \"2000 to 10000\":\n",
    "            dframe['class'][i] = 1\n",
    "            \n",
    "        if cla == \"over 10000\":\n",
    "            dframe['class'][i] = 2\n",
    "            \n",
    "    dframe = dframe.drop(columns = ['total count', 'count'])\n",
    "    return dframe\n",
    "\n",
    "\n",
    "def scale_values(data):\n",
    "    scaler = MinMaxScaler()\n",
    "    scaled_data = scaler.fit_transform(data.values)\n",
    "    return scaled_data"
   ]
  },
  {
   "cell_type": "code",
   "execution_count": 8,
   "metadata": {},
   "outputs": [],
   "source": [
    "def data_engineering(processed_df: pd.DataFrame) -> (pd.DataFrame, pd.DataFrame):\n",
    "    '''\n",
    "    Perform data engineering on processed dataframe\n",
    "\n",
    "    :param pd.DataFrame processed_df: output of preprocess()\n",
    "\n",
    "    :returns pd.DataFrame train_df: training set of the engineered dataframe\n",
    "    :returns pd.DataFrame test_df: test set of the engineered dataframe\n",
    "    '''\n",
    "    train, test = train_test_split(processed_df, test_size = 0.2, random_state = 123)\n",
    "    print(\"Saving train data to train.csv\")\n",
    "    print(\"Saving test data to test.csv\")\n",
    "    train.to_csv(\"train.csv\")\n",
    "    test.to_csv(\"test.csv\")\n",
    "    \n",
    "    # convert labels to class values\n",
    "    train_class = convert_class(train)\n",
    "    test_class = convert_class(test)\n",
    "    print(\"Labeling complete!\")\n",
    "\n",
    "    # scale the datasets - normalization\n",
    "    train_scale = scale_values(train_class.iloc[:, :-1])\n",
    "    test_scale = scale_values(test_class.iloc[:, :-1])\n",
    "    print(\"Scaling complete!\")\n",
    "    \n",
    "    train_df = (train_scale, train_class['class'].values)\n",
    "    test_df = (test_scale, test_class['class'].values)\n",
    "    \n",
    "    return (train_df, test_df)"
   ]
  },
  {
   "cell_type": "code",
   "execution_count": 9,
   "metadata": {},
   "outputs": [
    {
     "name": "stdout",
     "output_type": "stream",
     "text": [
      "Saving train data to train.csv\n",
      "Saving test data to test.csv\n"
     ]
    },
    {
     "name": "stderr",
     "output_type": "stream",
     "text": [
      "C:\\Users\\sunny\\Anaconda3\\lib\\site-packages\\ipykernel_launcher.py:11: SettingWithCopyWarning: \n",
      "A value is trying to be set on a copy of a slice from a DataFrame\n",
      "\n",
      "See the caveats in the documentation: http://pandas.pydata.org/pandas-docs/stable/indexing.html#indexing-view-versus-copy\n",
      "  # This is added back by InteractiveShellApp.init_path()\n",
      "C:\\Users\\sunny\\Anaconda3\\lib\\site-packages\\ipykernel_launcher.py:8: SettingWithCopyWarning: \n",
      "A value is trying to be set on a copy of a slice from a DataFrame\n",
      "\n",
      "See the caveats in the documentation: http://pandas.pydata.org/pandas-docs/stable/indexing.html#indexing-view-versus-copy\n",
      "  \n",
      "C:\\Users\\sunny\\Anaconda3\\lib\\site-packages\\ipykernel_launcher.py:14: SettingWithCopyWarning: \n",
      "A value is trying to be set on a copy of a slice from a DataFrame\n",
      "\n",
      "See the caveats in the documentation: http://pandas.pydata.org/pandas-docs/stable/indexing.html#indexing-view-versus-copy\n",
      "  \n"
     ]
    },
    {
     "name": "stdout",
     "output_type": "stream",
     "text": [
      "Labeling complete!\n",
      "Scaling complete!\n"
     ]
    }
   ],
   "source": [
    "train_df, test_df = data_engineering(processed_df)"
   ]
  },
  {
   "cell_type": "markdown",
   "metadata": {},
   "source": [
    "##  3. Classical machine learning methods"
   ]
  },
  {
   "cell_type": "code",
   "execution_count": 10,
   "metadata": {},
   "outputs": [],
   "source": [
    "from sklearn import svm\n",
    "from sklearn.metrics import accuracy_score\n",
    "from sklearn.metrics import confusion_matrix"
   ]
  },
  {
   "cell_type": "code",
   "execution_count": 11,
   "metadata": {},
   "outputs": [],
   "source": [
    "def classical_ml(train_df: pd.DataFrame, test_df: pd.DataFrame) -> ('classifier', 'accuracy', 'confusion matrix'):\n",
    "    '''\n",
    "    Use classical machine learning methods to predict total counts\n",
    "\n",
    "    :param pd.DataFrame train_df: training set dataframe\n",
    "    :param pd.DataFrame test_df: test set dataframe\n",
    "\n",
    "    :returns 'classifier': trained classifier\n",
    "    :returns 'accuracy': tuple of training accuracy and testing accuracy\n",
    "    :returns 'confusion matrix': confusion matrix on test set\n",
    "    '''\n",
    "    \n",
    "    x_train, y_train = train_df[0], train_df[1].astype('int')\n",
    "    x_test, y_test = test_df[0], test_df[1].astype('int')\n",
    "    \n",
    "    # creating a classifier, using the support vector classifier\n",
    "    clf = svm.SVC()\n",
    "    clf.fit(x_train, y_train)\n",
    "    print(\"Training complete!\")\n",
    "    \n",
    "    # test accuracy\n",
    "    y_pred = clf.predict(x_test)\n",
    "    acc = accuracy_score(y_test, y_pred)\n",
    "    print(\"Accuracy of the trained model is: {}%\".format(round(acc, 5)*100))\n",
    "    \n",
    "    # building the confusion matrix\n",
    "    conf = confusion_matrix(y_test, y_pred)\n",
    "    print(\"Final confusion matrix is: \")\n",
    "    print(conf)\n",
    "    \n",
    "    return clf, acc, conf"
   ]
  },
  {
   "cell_type": "code",
   "execution_count": 12,
   "metadata": {},
   "outputs": [
    {
     "name": "stderr",
     "output_type": "stream",
     "text": [
      "C:\\Users\\sunny\\AppData\\Roaming\\Python\\Python36\\site-packages\\sklearn\\svm\\base.py:196: FutureWarning: The default value of gamma will change from 'auto' to 'scale' in version 0.22 to account better for unscaled features. Set gamma explicitly to 'auto' or 'scale' to avoid this warning.\n",
      "  \"avoid this warning.\", FutureWarning)\n"
     ]
    },
    {
     "name": "stdout",
     "output_type": "stream",
     "text": [
      "Training complete!\n",
      "Accuracy of the trained model is: 76.408%\n",
      "Final confusion matrix is: \n",
      "[[249   8   1]\n",
      " [ 73 130  31]\n",
      " [  1  41 123]]\n"
     ]
    }
   ],
   "source": [
    "classifier, accuracy, confusion_mat = classical_ml(train_df, test_df)"
   ]
  },
  {
   "cell_type": "markdown",
   "metadata": {},
   "source": [
    "## 4. Neural networks"
   ]
  },
  {
   "cell_type": "code",
   "execution_count": 13,
   "metadata": {},
   "outputs": [],
   "source": [
    "import torch\n",
    "import numpy as np\n",
    "from sklearn.preprocessing import OneHotEncoder"
   ]
  },
  {
   "cell_type": "code",
   "execution_count": 53,
   "metadata": {},
   "outputs": [],
   "source": [
    "train_loss, valid_loss, test_loss = [], [], []\n",
    "\n",
    "def nn_ml(train_df: pd.DataFrame, test: pd.DataFrame) ->  ('model', 'test_accuracy'):\n",
    "    '''\n",
    "    Use neural networks to predict total counts\n",
    "\n",
    "    :param pd.DataFrame train_df: training set dataframe\n",
    "    :param pd.DataFrame test_df: test set dataframe\n",
    "\n",
    "    :returns 'model': trained model\n",
    "    :returns 'test_accuracy': accuracy on test set\n",
    "    '''\n",
    "    \n",
    "    onehot_enc = OneHotEncoder()\n",
    "    train_df_onehot = onehot_enc.fit_transform(train_df[1].astype('int').reshape(-1, 1)).toarray()\n",
    "\n",
    "    x_train, x_valid, y_train, y_valid = train_test_split(train_df[0], train_df_onehot, test_size=0.35)\n",
    "    x_tra = torch.tensor(x_train, dtype=torch.float)\n",
    "    y_tra = torch.tensor(y_train, dtype=torch.float)\n",
    "\n",
    "    x_val = torch.tensor(x_valid, dtype=torch.float)\n",
    "    y_val = torch.tensor(y_valid, dtype=torch.float)\n",
    "    \n",
    "    # use the nn package to define our model and loss function.\n",
    "    model = torch.nn.Sequential(\n",
    "    torch.nn.Linear(x_tra.shape[1], 25),\n",
    "    torch.nn.ReLU(),\n",
    "    torch.nn.Linear(25, 10),\n",
    "    torch.nn.ReLU(),\n",
    "    torch.nn.Linear(10, y_tra.shape[1]),\n",
    "    torch.nn.Sigmoid(),)\n",
    "    \n",
    "    print(\"Model Architecture: \")\n",
    "    print(model)\n",
    "    \n",
    "    epochs = 100\n",
    "    stop_counter = 0\n",
    "    early_stop = 5\n",
    "    learning_rate = 1e-4\n",
    "    every = 10\n",
    "    threshold = 15.0\n",
    "\n",
    "    loss_fn = torch.nn.MSELoss()\n",
    "    optimizer = torch.optim.Adam(model.parameters(), lr=learning_rate)\n",
    "    \n",
    "    onehot_enc = OneHotEncoder()\n",
    "    train_df_onehot = onehot_enc.fit_transform(train_df[1].astype('int').reshape(-1, 1)).toarray()\n",
    "\n",
    "    x_train, x_valid, y_train, y_valid = train_test_split(train_df[0], train_df_onehot, test_size=0.2)\n",
    "    x_tra = torch.tensor(x_train, dtype=torch.float)\n",
    "    y_tra = torch.tensor(y_train, dtype=torch.float)\n",
    "\n",
    "    x_val = torch.tensor(x_valid, dtype=torch.float)\n",
    "    y_val = torch.tensor(y_valid, dtype=torch.float)\n",
    "\n",
    "    train_sum_loss, valid_sum_loss, test_sum_loss = 0, 0, 0\n",
    "\n",
    "    for t in range(1, epochs + 1):\n",
    "        train_score, valid_score = 0, 0\n",
    "        train_sum_loss, valid_sum_loss = 0, 0\n",
    "\n",
    "        #####set the model to train mode based on the train data\n",
    "        model.train()\n",
    "        for i, vec in enumerate(x_tra):\n",
    "            # forward pass\n",
    "            y_train_pred = model(vec)\n",
    "            # compute and print loss\n",
    "            loss = loss_fn(y_train_pred, y_tra[i])\n",
    "            # collect the loss\n",
    "            train_sum_loss += loss.item()\n",
    "            # zero the gradient before back prop\n",
    "            optimizer.zero_grad()\n",
    "            # backward pass\n",
    "            loss.backward()\n",
    "            # optimizer makes an update to its parameters\n",
    "            optimizer.step()\n",
    "\n",
    "        \n",
    "        #####set the model to evaluate mode based on the validation data\n",
    "        model.eval()\n",
    "        for i, vec in enumerate(x_val):\n",
    "            # forward pass\n",
    "            y_valid_pred = model(vec)\n",
    "            # compute and print loss\n",
    "            loss = loss_fn(y_valid_pred, y_val[i])\n",
    "            valid_sum_loss += loss.item()\n",
    "\n",
    "        train_loss.append(train_sum_loss / x_tra.shape[0])\n",
    "        valid_loss.append(valid_sum_loss / x_val.shape[0])\n",
    "        \n",
    "        train_score = round((train_sum_loss / x_tra.shape[0]) * 100, 3)\n",
    "        valid_score = round((valid_sum_loss / x_val.shape[0]) * 100, 3)\n",
    "\n",
    "        #if t % every == 0:\n",
    "        print(\"Epoch \", t, (t / epochs) * 100, \"% complete...\")\n",
    "        print(\"Train loss: \", train_score, \"Validation score: \", valid_score)\n",
    "        print(\"\\n\")\n",
    "\n",
    "        if valid_score < threshold:\n",
    "            stop_counter += 1\n",
    "\n",
    "            if stop_counter == early_stop:\n",
    "                print(\"Threshold reached after \", t, \" iterations!\")\n",
    "                print(\"Training Complete after Early Stop!\")\n",
    "                break\n",
    "                \n",
    "    \n",
    "    #####testing the model after training and validataion\n",
    "    test_df_onehot = onehot_enc.fit_transform(test[1].astype('int').reshape(-1, 1)).toarray()\n",
    "    \n",
    "    x_test = torch.tensor(test[0], dtype=torch.float)\n",
    "    y_test = torch.tensor(test_df_onehot, dtype=torch.float)\n",
    "    \n",
    "    model.eval()\n",
    "    for i, vec in enumerate(x_test):\n",
    "        # forward pass with test dataset\n",
    "        y_test_pred = model(vec)\n",
    "        # compute and print loss\n",
    "        loss = loss_fn(y_test_pred, y_test[i])\n",
    "        test_loss.append(loss.item())\n",
    "        test_sum_loss += loss.item()\n",
    "    \n",
    "    test_avg_loss = (test_sum_loss / y_test.shape[0]) * 100\n",
    "    test_acc = 100 - test_avg_loss\n",
    "    #print(\"Total test loss: \", test_sum_loss)\n",
    "    print(\"Total average test loss: \", round(test_avg_loss, 4), \"%\")\n",
    "    print(\"Total average test accuracy: \", round(test_acc, 4), \"%\")\n",
    "\n",
    "    return model, test_acc"
   ]
  },
  {
   "cell_type": "code",
   "execution_count": 54,
   "metadata": {
    "scrolled": true
   },
   "outputs": [
    {
     "name": "stderr",
     "output_type": "stream",
     "text": [
      "C:\\Users\\sunny\\AppData\\Roaming\\Python\\Python36\\site-packages\\sklearn\\preprocessing\\_encoders.py:363: FutureWarning: The handling of integer data will change in version 0.22. Currently, the categories are determined based on the range [0, max(values)], while in the future they will be determined based on the unique values.\n",
      "If you want the future behaviour and silence this warning, you can specify \"categories='auto'\".\n",
      "In case you used a LabelEncoder before this OneHotEncoder to convert the categories to integers, then you can now use the OneHotEncoder directly.\n",
      "  warnings.warn(msg, FutureWarning)\n"
     ]
    },
    {
     "name": "stdout",
     "output_type": "stream",
     "text": [
      "Model Architecture: \n",
      "Sequential(\n",
      "  (0): Linear(in_features=7, out_features=25, bias=True)\n",
      "  (1): ReLU()\n",
      "  (2): Linear(in_features=25, out_features=10, bias=True)\n",
      "  (3): ReLU()\n",
      "  (4): Linear(in_features=10, out_features=3, bias=True)\n",
      "  (5): Sigmoid()\n",
      ")\n"
     ]
    },
    {
     "name": "stderr",
     "output_type": "stream",
     "text": [
      "C:\\Users\\sunny\\AppData\\Roaming\\Python\\Python36\\site-packages\\sklearn\\preprocessing\\_encoders.py:363: FutureWarning: The handling of integer data will change in version 0.22. Currently, the categories are determined based on the range [0, max(values)], while in the future they will be determined based on the unique values.\n",
      "If you want the future behaviour and silence this warning, you can specify \"categories='auto'\".\n",
      "In case you used a LabelEncoder before this OneHotEncoder to convert the categories to integers, then you can now use the OneHotEncoder directly.\n",
      "  warnings.warn(msg, FutureWarning)\n"
     ]
    },
    {
     "name": "stdout",
     "output_type": "stream",
     "text": [
      "Epoch  1 0.01 % complete...\n",
      "Train loss:  24.013 Validation score:  22.478\n",
      "\n",
      "\n",
      "Epoch  2 0.02 % complete...\n",
      "Train loss:  21.914 Validation score:  21.737\n",
      "\n",
      "\n",
      "Epoch  3 0.03 % complete...\n",
      "Train loss:  21.531 Validation score:  21.4\n",
      "\n",
      "\n",
      "Epoch  4 0.04 % complete...\n",
      "Train loss:  21.133 Validation score:  20.869\n",
      "\n",
      "\n",
      "Epoch  5 0.05 % complete...\n",
      "Train loss:  20.535 Validation score:  20.117\n",
      "\n",
      "\n",
      "Epoch  6 0.06 % complete...\n",
      "Train loss:  19.736 Validation score:  19.175\n",
      "\n",
      "\n",
      "Epoch  7 0.06999999999999999 % complete...\n",
      "Train loss:  18.783 Validation score:  18.128\n",
      "\n",
      "\n",
      "Epoch  8 0.08 % complete...\n",
      "Train loss:  17.773 Validation score:  17.104\n",
      "\n",
      "\n",
      "Epoch  9 0.09 % complete...\n",
      "Train loss:  16.832 Validation score:  16.227\n",
      "\n",
      "\n",
      "Epoch  10 0.1 % complete...\n",
      "Train loss:  16.048 Validation score:  15.535\n",
      "\n",
      "\n",
      "Epoch  11 0.11 % complete...\n",
      "Train loss:  15.431 Validation score:  15.01\n",
      "\n",
      "\n",
      "Epoch  12 0.12 % complete...\n",
      "Train loss:  14.96 Validation score:  14.616\n",
      "\n",
      "\n",
      "Epoch  13 0.13 % complete...\n",
      "Train loss:  14.602 Validation score:  14.32\n",
      "\n",
      "\n",
      "Epoch  14 0.13999999999999999 % complete...\n",
      "Train loss:  14.329 Validation score:  14.095\n",
      "\n",
      "\n",
      "Epoch  15 0.15 % complete...\n",
      "Train loss:  14.117 Validation score:  13.923\n",
      "\n",
      "\n",
      "Epoch  16 0.16 % complete...\n",
      "Train loss:  13.95 Validation score:  13.785\n",
      "\n",
      "\n",
      "Threshold reached after  16  iterations!\n",
      "Training Complete after Early Stop!\n"
     ]
    },
    {
     "name": "stderr",
     "output_type": "stream",
     "text": [
      "C:\\Users\\sunny\\AppData\\Roaming\\Python\\Python36\\site-packages\\sklearn\\preprocessing\\_encoders.py:363: FutureWarning: The handling of integer data will change in version 0.22. Currently, the categories are determined based on the range [0, max(values)], while in the future they will be determined based on the unique values.\n",
      "If you want the future behaviour and silence this warning, you can specify \"categories='auto'\".\n",
      "In case you used a LabelEncoder before this OneHotEncoder to convert the categories to integers, then you can now use the OneHotEncoder directly.\n",
      "  warnings.warn(msg, FutureWarning)\n"
     ]
    },
    {
     "name": "stdout",
     "output_type": "stream",
     "text": [
      "Total average test loss:  13.2321 %\n",
      "Total average test accuracy:  86.7679 %\n"
     ]
    }
   ],
   "source": [
    "nn, acc = nn_ml(train_df, test_df)"
   ]
  },
  {
   "cell_type": "code",
   "execution_count": 57,
   "metadata": {},
   "outputs": [],
   "source": [
    "import matplotlib.pyplot as plt"
   ]
  },
  {
   "cell_type": "code",
   "execution_count": 58,
   "metadata": {},
   "outputs": [
    {
     "data": {
      "image/png": "[encoded data removed]",
      "text/plain": [
       "<Figure size 432x288 with 1 Axes>"
      ]
     },
     "metadata": {
      "needs_background": "light"
     },
     "output_type": "display_data"
    }
   ],
   "source": [
    "plt.grid()\n",
    "plt.plot(np.arange(len(train_loss)), train_loss, 'r-')\n",
    "plt.plot(np.arange(len(valid_loss)), valid_loss, 'b-')\n",
    "#plt.plot(np.arange(len(test_loss)), test_loss, 'g-')\n",
    "plt.show()"
   ]
  },
  {
   "cell_type": "code",
   "execution_count": 68,
   "metadata": {},
   "outputs": [
    {
     "name": "stderr",
     "output_type": "stream",
     "text": [
      "C:\\Users\\sunny\\AppData\\Roaming\\Python\\Python36\\site-packages\\sklearn\\preprocessing\\_encoders.py:363: FutureWarning: The handling of integer data will change in version 0.22. Currently, the categories are determined based on the range [0, max(values)], while in the future they will be determined based on the unique values.\n",
      "If you want the future behaviour and silence this warning, you can specify \"categories='auto'\".\n",
      "In case you used a LabelEncoder before this OneHotEncoder to convert the categories to integers, then you can now use the OneHotEncoder directly.\n",
      "  warnings.warn(msg, FutureWarning)\n"
     ]
    },
    {
     "data": {
      "text/plain": [
       "(tensor([0.1065, 0.4168, 0.4416], grad_fn=<SigmoidBackward>),\n",
       " tensor([0., 0., 1.]))"
      ]
     },
     "execution_count": 68,
     "metadata": {},
     "output_type": "execute_result"
    }
   ],
   "source": [
    "nn.eval()\n",
    "x_test = torch.tensor(test_df[0], dtype=torch.float)\n",
    "onehot_enc = OneHotEncoder()\n",
    "test_df_onehot = onehot_enc.fit_transform(test_df[1].astype('int').reshape(-1, 1)).toarray()\n",
    "y_test = torch.tensor(test_df_onehot, dtype=torch.float)\n",
    "am = nn(x_test[0])\n",
    "am, y_test[0]"
   ]
  }
 ],
 "metadata": {
  "kernelspec": {
   "display_name": "Python 3",
   "language": "python",
   "name": "python3"
  },
  "language_info": {
   "codemirror_mode": {
    "name": "ipython",
    "version": 3
   },
   "file_extension": ".py",
   "mimetype": "text/x-python",
   "name": "python",
   "nbconvert_exporter": "python",
   "pygments_lexer": "ipython3",
   "version": "3.6.7"
  }
 },
 "nbformat": 4,
 "nbformat_minor": 4
}
